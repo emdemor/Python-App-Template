{
 "cells": [
  {
   "cell_type": "code",
   "execution_count": 1,
   "id": "6746943e-fc7c-43c8-9dbb-4e742af06882",
   "metadata": {},
   "outputs": [
    {
     "data": {
      "text/plain": [
       "'myenvvar'"
      ]
     },
     "execution_count": 1,
     "metadata": {},
     "output_type": "execute_result"
    }
   ],
   "source": [
    "import os\n",
    "os.environ['ENVVAR']"
   ]
  },
  {
   "cell_type": "code",
   "execution_count": null,
   "id": "72075aae-c5c1-414b-8dc1-2ca0a5fa2273",
   "metadata": {},
   "outputs": [],
   "source": []
  }
 ],
 "metadata": {
  "kernelspec": {
   "display_name": "Python 3 (ipykernel)",
   "language": "python",
   "name": "python3"
  },
  "language_info": {
   "codemirror_mode": {
    "name": "ipython",
    "version": 3
   },
   "file_extension": ".py",
   "mimetype": "text/x-python",
   "name": "python",
   "nbconvert_exporter": "python",
   "pygments_lexer": "ipython3",
   "version": "3.11.4"
  }
 },
 "nbformat": 4,
 "nbformat_minor": 5
}
